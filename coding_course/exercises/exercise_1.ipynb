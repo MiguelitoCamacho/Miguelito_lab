{
 "cells": [
  {
   "cell_type": "markdown",
   "metadata": {},
   "source": [
    "# Start with Python"
   ]
  },
  {
   "cell_type": "markdown",
   "metadata": {},
   "source": [
    "## 1) Assign variables"
   ]
  },
  {
   "cell_type": "code",
   "execution_count": 4,
   "metadata": {},
   "outputs": [
    {
     "ename": "KeyboardInterrupt",
     "evalue": "",
     "output_type": "error",
     "traceback": [
      "\u001b[0;31m---------------------------------------------------------------------------\u001b[0m",
      "\u001b[0;31mKeyboardInterrupt\u001b[0m                         Traceback (most recent call last)",
      "\u001b[1;32m/Users/camacm17/miniconda3/envs/coding_course/exercises/exercise_1.ipynb Cell 3\u001b[0m line \u001b[0;36m2\n\u001b[1;32m      <a href='vscode-notebook-cell:/Users/camacm17/miniconda3/envs/coding_course/exercises/exercise_1.ipynb#W2sZmlsZQ%3D%3D?line=0'>1</a>\u001b[0m \u001b[39m# string\u001b[39;00m\n\u001b[0;32m----> <a href='vscode-notebook-cell:/Users/camacm17/miniconda3/envs/coding_course/exercises/exercise_1.ipynb#W2sZmlsZQ%3D%3D?line=1'>2</a>\u001b[0m test_string \u001b[39m=\u001b[39m \u001b[39m\"\u001b[39m\u001b[39mHello world!\u001b[39m\u001b[39m\"\u001b[39m\n\u001b[1;32m      <a href='vscode-notebook-cell:/Users/camacm17/miniconda3/envs/coding_course/exercises/exercise_1.ipynb#W2sZmlsZQ%3D%3D?line=4'>5</a>\u001b[0m \u001b[39m# integer\u001b[39;00m\n\u001b[1;32m      <a href='vscode-notebook-cell:/Users/camacm17/miniconda3/envs/coding_course/exercises/exercise_1.ipynb#W2sZmlsZQ%3D%3D?line=5'>6</a>\u001b[0m test_integer \u001b[39m=\u001b[39m \u001b[39m11\u001b[39m\n",
      "\u001b[1;32m/Users/camacm17/miniconda3/envs/coding_course/exercises/exercise_1.ipynb Cell 3\u001b[0m line \u001b[0;36m2\n\u001b[1;32m      <a href='vscode-notebook-cell:/Users/camacm17/miniconda3/envs/coding_course/exercises/exercise_1.ipynb#W2sZmlsZQ%3D%3D?line=0'>1</a>\u001b[0m \u001b[39m# string\u001b[39;00m\n\u001b[0;32m----> <a href='vscode-notebook-cell:/Users/camacm17/miniconda3/envs/coding_course/exercises/exercise_1.ipynb#W2sZmlsZQ%3D%3D?line=1'>2</a>\u001b[0m test_string \u001b[39m=\u001b[39m \u001b[39m\"\u001b[39m\u001b[39mHello world!\u001b[39m\u001b[39m\"\u001b[39m\n\u001b[1;32m      <a href='vscode-notebook-cell:/Users/camacm17/miniconda3/envs/coding_course/exercises/exercise_1.ipynb#W2sZmlsZQ%3D%3D?line=4'>5</a>\u001b[0m \u001b[39m# integer\u001b[39;00m\n\u001b[1;32m      <a href='vscode-notebook-cell:/Users/camacm17/miniconda3/envs/coding_course/exercises/exercise_1.ipynb#W2sZmlsZQ%3D%3D?line=5'>6</a>\u001b[0m test_integer \u001b[39m=\u001b[39m \u001b[39m11\u001b[39m\n",
      "File \u001b[0;32m_pydevd_bundle/pydevd_cython.pyx:1457\u001b[0m, in \u001b[0;36m_pydevd_bundle.pydevd_cython.SafeCallWrapper.__call__\u001b[0;34m()\u001b[0m\n",
      "File \u001b[0;32m_pydevd_bundle/pydevd_cython.pyx:701\u001b[0m, in \u001b[0;36m_pydevd_bundle.pydevd_cython.PyDBFrame.trace_dispatch\u001b[0;34m()\u001b[0m\n",
      "File \u001b[0;32m_pydevd_bundle/pydevd_cython.pyx:1152\u001b[0m, in \u001b[0;36m_pydevd_bundle.pydevd_cython.PyDBFrame.trace_dispatch\u001b[0;34m()\u001b[0m\n",
      "File \u001b[0;32m_pydevd_bundle/pydevd_cython.pyx:1135\u001b[0m, in \u001b[0;36m_pydevd_bundle.pydevd_cython.PyDBFrame.trace_dispatch\u001b[0;34m()\u001b[0m\n",
      "File \u001b[0;32m_pydevd_bundle/pydevd_cython.pyx:312\u001b[0m, in \u001b[0;36m_pydevd_bundle.pydevd_cython.PyDBFrame.do_wait_suspend\u001b[0;34m()\u001b[0m\n",
      "File \u001b[0;32m~/miniconda3/envs/biology/lib/python3.10/site-packages/debugpy/_vendored/pydevd/pydevd.py:2070\u001b[0m, in \u001b[0;36mPyDB.do_wait_suspend\u001b[0;34m(self, thread, frame, event, arg, exception_type)\u001b[0m\n\u001b[1;32m   2067\u001b[0m             from_this_thread\u001b[39m.\u001b[39mappend(frame_custom_thread_id)\n\u001b[1;32m   2069\u001b[0m     \u001b[39mwith\u001b[39;00m \u001b[39mself\u001b[39m\u001b[39m.\u001b[39m_threads_suspended_single_notification\u001b[39m.\u001b[39mnotify_thread_suspended(thread_id, thread, stop_reason):\n\u001b[0;32m-> 2070\u001b[0m         keep_suspended \u001b[39m=\u001b[39m \u001b[39mself\u001b[39;49m\u001b[39m.\u001b[39;49m_do_wait_suspend(thread, frame, event, arg, suspend_type, from_this_thread, frames_tracker)\n\u001b[1;32m   2072\u001b[0m frames_list \u001b[39m=\u001b[39m \u001b[39mNone\u001b[39;00m\n\u001b[1;32m   2074\u001b[0m \u001b[39mif\u001b[39;00m keep_suspended:\n\u001b[1;32m   2075\u001b[0m     \u001b[39m# This means that we should pause again after a set next statement.\u001b[39;00m\n",
      "File \u001b[0;32m~/miniconda3/envs/biology/lib/python3.10/site-packages/debugpy/_vendored/pydevd/pydevd.py:2106\u001b[0m, in \u001b[0;36mPyDB._do_wait_suspend\u001b[0;34m(self, thread, frame, event, arg, suspend_type, from_this_thread, frames_tracker)\u001b[0m\n\u001b[1;32m   2103\u001b[0m         \u001b[39mself\u001b[39m\u001b[39m.\u001b[39m_call_input_hook()\n\u001b[1;32m   2105\u001b[0m     \u001b[39mself\u001b[39m\u001b[39m.\u001b[39mprocess_internal_commands()\n\u001b[0;32m-> 2106\u001b[0m     time\u001b[39m.\u001b[39;49msleep(\u001b[39m0.01\u001b[39;49m)\n\u001b[1;32m   2108\u001b[0m \u001b[39mself\u001b[39m\u001b[39m.\u001b[39mcancel_async_evaluation(get_current_thread_id(thread), \u001b[39mstr\u001b[39m(\u001b[39mid\u001b[39m(frame)))\n\u001b[1;32m   2110\u001b[0m \u001b[39m# process any stepping instructions\u001b[39;00m\n",
      "\u001b[0;31mKeyboardInterrupt\u001b[0m: "
     ]
    }
   ],
   "source": [
    "# string\n",
    "test_string = \"Hello world!\"\n",
    "\n",
    "\n",
    "# integer\n",
    "test_integer = 11\n",
    "# float\n",
    "test_float = 23.23\n",
    "\n",
    "# bool/boolean\n",
    "test_bool = True\n",
    "\n",
    "# list\n",
    "test_list = []\n",
    "# set\n",
    "test_set = set()\n",
    "# dict/dictionary\n",
    "test_dict = {}\n",
    "# tuple\n",
    "test_tuple = ()"
   ]
  },
  {
   "cell_type": "markdown",
   "metadata": {},
   "source": [
    "#### Exercise"
   ]
  },
  {
   "cell_type": "markdown",
   "metadata": {},
   "source": [
    "Create a list with 4 elements. First element is a string, second element is an integer, third element is a float and last element is a bool."
   ]
  },
  {
   "cell_type": "code",
   "execution_count": 8,
   "metadata": {},
   "outputs": [
    {
     "name": "stdout",
     "output_type": "stream",
     "text": [
      "['The biology', 12, 3.45, True]\n"
     ]
    }
   ],
   "source": [
    "my_first_list = [\"The biology\", 12, 3.45, True] \n",
    "print(my_first_list)\n",
    "\n"
   ]
  },
  {
   "cell_type": "markdown",
   "metadata": {},
   "source": [
    "## 2) The first functions"
   ]
  },
  {
   "cell_type": "markdown",
   "metadata": {},
   "source": [
    "### print()"
   ]
  },
  {
   "cell_type": "code",
   "execution_count": 9,
   "metadata": {},
   "outputs": [
    {
     "name": "stdout",
     "output_type": "stream",
     "text": [
      "Hello world!\n"
     ]
    }
   ],
   "source": [
    "print(test_string)"
   ]
  },
  {
   "cell_type": "markdown",
   "metadata": {},
   "source": [
    "### help()"
   ]
  },
  {
   "cell_type": "code",
   "execution_count": null,
   "metadata": {},
   "outputs": [],
   "source": [
    "help(print)"
   ]
  },
  {
   "cell_type": "markdown",
   "metadata": {},
   "source": [
    "### type()"
   ]
  },
  {
   "cell_type": "code",
   "execution_count": null,
   "metadata": {},
   "outputs": [],
   "source": [
    "# check data types of test variables\n",
    "print(type(test_string))\n",
    "print(type(test_integer))\n",
    "print(type(test_float))\n",
    "print(type(test_bool))\n",
    "print(type(test_list))\n",
    "print(type(test_set))\n",
    "print(type(test_dict))\n",
    "print(type(test_tuple))"
   ]
  },
  {
   "cell_type": "markdown",
   "metadata": {},
   "source": [
    "#### Exercise"
   ]
  },
  {
   "cell_type": "markdown",
   "metadata": {},
   "source": [
    "Find out what the functions do:\n",
    "- abs()\n",
    "- dir()\n",
    "- input()\n",
    "- isinstance()\n",
    "- len()\n",
    "- map()\n",
    "- max()\n",
    "- min()\n",
    "- range()\n",
    "- round()\n",
    "- sorted()\n",
    "- sum()\n",
    "- zip()"
   ]
  },
  {
   "cell_type": "code",
   "execution_count": 10,
   "metadata": {},
   "outputs": [
    {
     "name": "stdout",
     "output_type": "stream",
     "text": [
      "Help on built-in function min in module builtins:\n",
      "\n",
      "min(...)\n",
      "    min(iterable, *[, default=obj, key=func]) -> value\n",
      "    min(arg1, arg2, *args, *[, key=func]) -> value\n",
      "    \n",
      "    With a single iterable argument, return its smallest item. The\n",
      "    default keyword-only argument specifies an object to return if\n",
      "    the provided iterable is empty.\n",
      "    With two or more arguments, return the smallest argument.\n",
      "\n"
     ]
    }
   ],
   "source": [
    "help(min)"
   ]
  },
  {
   "cell_type": "markdown",
   "metadata": {},
   "source": [
    "Find the minimal value of the given list."
   ]
  },
  {
   "cell_type": "code",
   "execution_count": 12,
   "metadata": {},
   "outputs": [
    {
     "name": "stdout",
     "output_type": "stream",
     "text": [
      "-424\n"
     ]
    }
   ],
   "source": [
    "numbers = [344, 31, 1, 12, 0, 24, -424, 323]\n",
    "\n",
    "# your solution\n",
    "print(min(numbers))\n",
    "\n",
    "\n"
   ]
  },
  {
   "cell_type": "markdown",
   "metadata": {},
   "source": [
    "How many elements does the given list have?"
   ]
  },
  {
   "cell_type": "code",
   "execution_count": 15,
   "metadata": {},
   "outputs": [
    {
     "name": "stdout",
     "output_type": "stream",
     "text": [
      "8\n"
     ]
    }
   ],
   "source": [
    "mixed_list = [\"Hello\", 23, \"No\", 9.2328, 8, True, \"x\", 42]\n",
    "\n",
    "# your solution\n",
    "print(len(mixed_list))"
   ]
  },
  {
   "cell_type": "markdown",
   "metadata": {},
   "source": [
    "Round the given variable that it has only one decimal."
   ]
  },
  {
   "cell_type": "code",
   "execution_count": 20,
   "metadata": {},
   "outputs": [
    {
     "name": "stdout",
     "output_type": "stream",
     "text": [
      "Help on built-in function round in module builtins:\n",
      "\n",
      "round(number, ndigits=None)\n",
      "    Round a number to a given precision in decimal digits.\n",
      "    \n",
      "    The return value is an integer if ndigits is omitted or None.  Otherwise\n",
      "    the return value has the same type as the number.  ndigits may be negative.\n",
      "\n",
      "3.1\n"
     ]
    }
   ],
   "source": [
    "number = 3.141592\n",
    "help(round)\n",
    "# your solution\n",
    "print(round(number, 1))"
   ]
  },
  {
   "cell_type": "markdown",
   "metadata": {},
   "source": [
    "## 3) Comments"
   ]
  },
  {
   "cell_type": "markdown",
   "metadata": {},
   "source": [
    "### Single line comments"
   ]
  },
  {
   "cell_type": "code",
   "execution_count": null,
   "metadata": {},
   "outputs": [],
   "source": [
    "# this line is a comment\n",
    "# this line is another comment"
   ]
  },
  {
   "cell_type": "markdown",
   "metadata": {},
   "source": [
    "### Multiline comments"
   ]
  },
  {
   "cell_type": "code",
   "execution_count": 21,
   "metadata": {},
   "outputs": [
    {
     "name": "stdout",
     "output_type": "stream",
     "text": [
      "But I am executed and printed.\n"
     ]
    }
   ],
   "source": [
    "'''\n",
    "This\n",
    "is\n",
    "a,\n",
    "multiline\n",
    "comment\n",
    "!\n",
    "'''\n",
    "print(\"But I am executed and printed.\")"
   ]
  },
  {
   "cell_type": "markdown",
   "metadata": {},
   "source": [
    "## 4) Operators"
   ]
  },
  {
   "cell_type": "markdown",
   "metadata": {},
   "source": [
    "### Mathematical operators"
   ]
  },
  {
   "cell_type": "markdown",
   "metadata": {},
   "source": [
    "| operator | operation        | example |\n",
    "|----------|------------------|---------|\n",
    "| +        | addition         | x + y   |\n",
    "| -        | subtraction      | x - y   |\n",
    "| *        | multiplication   | x * y   |\n",
    "| /        | division         | x / y   |\n",
    "| %        | modulo           | x % y   |\n",
    "| //       | integer division | x // y  |\n",
    "| **       | potency          | x ** y  |"
   ]
  },
  {
   "cell_type": "code",
   "execution_count": 22,
   "metadata": {},
   "outputs": [],
   "source": [
    "# assign test numbers\n",
    "number_1 = 12\n",
    "number_2 = 3233\n",
    "number_3 = 828.9"
   ]
  },
  {
   "cell_type": "code",
   "execution_count": 23,
   "metadata": {},
   "outputs": [
    {
     "name": "stdout",
     "output_type": "stream",
     "text": [
      "3245\n",
      "-3221\n",
      "9946.8\n",
      "269.4166666666667\n",
      "746.3000000000001\n",
      "3.0\n",
      "144\n"
     ]
    }
   ],
   "source": [
    "# addition\n",
    "print(number_1 + number_2)\n",
    "# subtraction\n",
    "print(number_1 - number_2)\n",
    "# multiplication\n",
    "print(number_1 * number_3)\n",
    "# division\n",
    "print(number_2 / number_1)\n",
    "# modulo\n",
    "print(number_2 % number_3)\n",
    "# integer division\n",
    "print(number_2 // number_3)\n",
    "# potency\n",
    "print(number_1 ** 2)"
   ]
  },
  {
   "cell_type": "markdown",
   "metadata": {},
   "source": [
    "#### Exercise"
   ]
  },
  {
   "cell_type": "markdown",
   "metadata": {},
   "source": [
    "Find out how you can get the residual value of the given division."
   ]
  },
  {
   "cell_type": "code",
   "execution_count": 25,
   "metadata": {},
   "outputs": [
    {
     "name": "stdout",
     "output_type": "stream",
     "text": [
      "42.333333333333336\n",
      "1\n"
     ]
    }
   ],
   "source": [
    "x = 127\n",
    "y = 3\n",
    "\n",
    "# division\n",
    "print(x / y)\n",
    "\n",
    "# residual value\n",
    "\n",
    "print(x%y)"
   ]
  },
  {
   "cell_type": "markdown",
   "metadata": {},
   "source": [
    "### Logical Operators"
   ]
  },
  {
   "cell_type": "markdown",
   "metadata": {},
   "source": [
    "| operator | operation              | example    |\n",
    "|----------|------------------------|------------|\n",
    "| not      | logical negation       | not x      |\n",
    "| and      | logical AND            | x and y    |\n",
    "| or       | logical OR             | x or y     |\n",
    "| <        | check if less          | x < y      |\n",
    "| <=       | check if less or equal | x <= y     |\n",
    "| >        | check if more          | x > y      |\n",
    "| >=       | check if more or equal | x >= y     |\n",
    "| ==       | check if equal         | x == y     |\n",
    "| !=       | check if unequal       | x != y     |\n",
    "| is       | check if identical     | x is y     |\n",
    "| is not   | check if not identical | x is not y |\n",
    "| in       | check if available     | x in y     |\n",
    "| not in   | check if not available | x not in y |"
   ]
  },
  {
   "cell_type": "code",
   "execution_count": 26,
   "metadata": {},
   "outputs": [
    {
     "name": "stdout",
     "output_type": "stream",
     "text": [
      "False\n",
      "False\n",
      "True\n",
      "False\n",
      "True\n",
      "True\n",
      "True\n",
      "True\n",
      "True\n",
      "True\n",
      "False\n",
      "True\n",
      "False\n"
     ]
    }
   ],
   "source": [
    "# logical negation\n",
    "print(not True)\n",
    "# logical AND\n",
    "print(True and False)\n",
    "# logical OR\n",
    "print(True or False)\n",
    "# check if less\n",
    "print(7 < 6)\n",
    "# check if less or equal\n",
    "print(8 <= 8)\n",
    "# check if more\n",
    "print(111 > 12)\n",
    "# check if more or equal\n",
    "print(-1 >= -4)\n",
    "# check if equal\n",
    "print(-4 == -4)\n",
    "# check if unequal\n",
    "print(\"Hi\" != \"Hello\")\n",
    "# check if identical\n",
    "print(True is True)\n",
    "# check if unidentical\n",
    "print(True is not True)\n",
    "# check if available\n",
    "print(\"a\" in [\"a\", \"d\", 23, 25])\n",
    "# check if not available\n",
    "print(25 not in [\"a\", \"d\", 23, 25])"
   ]
  },
  {
   "cell_type": "markdown",
   "metadata": {},
   "source": [
    "#### Exercise"
   ]
  },
  {
   "cell_type": "markdown",
   "metadata": {},
   "source": [
    "Check if the given variables are equal."
   ]
  },
  {
   "cell_type": "code",
   "execution_count": 28,
   "metadata": {},
   "outputs": [
    {
     "name": "stdout",
     "output_type": "stream",
     "text": [
      "False\n"
     ]
    }
   ],
   "source": [
    "a1 = \"42\"\n",
    "a2 = 42\n",
    "\n",
    "# test if equal\n",
    "print( a1 == a2)"
   ]
  },
  {
   "cell_type": "code",
   "execution_count": null,
   "metadata": {},
   "outputs": [],
   "source": []
  }
 ],
 "metadata": {
  "kernelspec": {
   "display_name": "coding_course",
   "language": "python",
   "name": "python3"
  },
  "language_info": {
   "codemirror_mode": {
    "name": "ipython",
    "version": 3
   },
   "file_extension": ".py",
   "mimetype": "text/x-python",
   "name": "python",
   "nbconvert_exporter": "python",
   "pygments_lexer": "ipython3",
   "version": "3.10.13"
  }
 },
 "nbformat": 4,
 "nbformat_minor": 2
}
